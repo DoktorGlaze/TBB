{
 "cells": [
  {
   "cell_type": "code",
   "execution_count": null,
   "metadata": {},
   "outputs": [],
   "source": [
    "import gensim\n",
    "import logging\n",
    "from gensim.corpora.wikicorpus import WikiCorpus\n",
    "from gensim.models import Word2Vec\n",
    "\n",
    "# Download the Swedish Wikipedia dump\n",
    "# You can find the latest dump at https://dumps.wikimedia.org/svwiki/latest/\n",
    "wiki_dump_path = \"/path/to/svwiki-latest-pages-articles.xml.bz2\"\n",
    "\n",
    "# Set up logging\n",
    "logging.basicConfig(format='%(asctime)s : %(levelname)s : %(message)s', level=logging.INFO)\n",
    "\n",
    "# Create a WikiCorpus object from the dump file\n",
    "wiki_corpus = WikiCorpus(wiki_dump_path, dictionary={})\n",
    "\n",
    "# Train a Word2Vec model using the corpus\n",
    "model = Word2Vec(sentences=wiki_corpus.get_texts(), size=300, window=5, min_count=5, workers=4)\n",
    "\n",
    "# Save the model\n",
    "model.save(\"swedish_word2vec.model\")\n"
   ]
  },
  {
   "cell_type": "code",
   "execution_count": 2,
   "metadata": {},
   "outputs": [
    {
     "name": "stdout",
     "output_type": "stream",
     "text": [
      "goat\n"
     ]
    }
   ],
   "source": [
    "from gensim.models import KeyedVectors\n",
    "swedish_model = KeyedVectors.load_word2vec_format(\n",
    "    'https://dl.fbaipublicfiles.com/fasttext/vectors-crawl/cc.sv.300.vec.gz', binary=False)\n",
    "\n",
    "\n",
    "\n",
    "# Perform the word analogy task\n",
    "result = swedish_model.most_similar(positive=['king', 'woman'], negative=['man'], topn=1)\n",
    "\n",
    "print(result[0][0])"
   ]
  },
  {
   "cell_type": "code",
   "execution_count": 16,
   "metadata": {},
   "outputs": [
    {
     "name": "stdout",
     "output_type": "stream",
     "text": [
      "iphone5\n"
     ]
    }
   ],
   "source": [
    "# Perform the word analogy task\n",
    "result = swedish_model.most_similar(positive=['kun', 'iphone'], negative=['galaxy'], topn=1)\n",
    "\n",
    "print(result[0][0])"
   ]
  },
  {
   "cell_type": "code",
   "execution_count": 19,
   "metadata": {},
   "outputs": [
    {
     "name": "stdout",
     "output_type": "stream",
     "text": [
      "kung 0.6993669271469116\n",
      "lydkung 0.5736722350120544\n",
      "exkung 0.5551556348800659\n",
      "konung 0.5304485559463501\n",
      "medkung 0.5163165926933289\n",
      "ex-kung 0.5124076008796692\n",
      "drottning 0.5081849098205566\n",
      "arvkonung 0.48507872223854065\n",
      "storkonung 0.4760543406009674\n",
      "prinsregent 0.4753504991531372\n"
     ]
    }
   ],
   "source": [
    "# Compute the vector for king - man + woman\n",
    "vec = swedish_model['kung'] - swedish_model['man'] + swedish_model['kvinna']\n",
    "\n",
    "# Find the most similar words to the computed vector\n",
    "similar_words = swedish_model.similar_by_vector(vec)\n",
    "\n",
    "# Print the top 10 similar words\n",
    "for word, similarity in similar_words[:10]:\n",
    "    print(word, similarity)"
   ]
  }
 ],
 "metadata": {
  "kernelspec": {
   "display_name": "Python 3",
   "language": "python",
   "name": "python3"
  },
  "language_info": {
   "codemirror_mode": {
    "name": "ipython",
    "version": 3
   },
   "file_extension": ".py",
   "mimetype": "text/x-python",
   "name": "python",
   "nbconvert_exporter": "python",
   "pygments_lexer": "ipython3",
   "version": "3.11.2"
  },
  "orig_nbformat": 4
 },
 "nbformat": 4,
 "nbformat_minor": 2
}
