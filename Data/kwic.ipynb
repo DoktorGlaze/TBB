{
 "cells": [
  {
   "cell_type": "code",
   "execution_count": 8,
   "metadata": {},
   "outputs": [
    {
     "ename": "TypeError",
     "evalue": "'NoneType' object is not subscriptable",
     "output_type": "error",
     "traceback": [
      "\u001b[0;31m---------------------------------------------------------------------------\u001b[0m",
      "\u001b[0;31mTypeError\u001b[0m                                 Traceback (most recent call last)",
      "\u001b[0;32m<ipython-input-8-5f060f0e4080>\u001b[0m in \u001b[0;36m<module>\u001b[0;34m\u001b[0m\n\u001b[1;32m     23\u001b[0m \u001b[0;32mif\u001b[0m \u001b[0mkwic\u001b[0m \u001b[0;32mis\u001b[0m \u001b[0;32mnot\u001b[0m \u001b[0;32mNone\u001b[0m\u001b[0;34m:\u001b[0m\u001b[0;34m\u001b[0m\u001b[0;34m\u001b[0m\u001b[0m\n\u001b[1;32m     24\u001b[0m     \u001b[0;31m# Extract the context of the keyword\u001b[0m\u001b[0;34m\u001b[0m\u001b[0;34m\u001b[0m\u001b[0;34m\u001b[0m\u001b[0m\n\u001b[0;32m---> 25\u001b[0;31m     \u001b[0mcontext\u001b[0m \u001b[0;34m=\u001b[0m \u001b[0mkwic\u001b[0m\u001b[0;34m.\u001b[0m\u001b[0mtargets\u001b[0m\u001b[0;34m[\u001b[0m\u001b[0;36m0\u001b[0m\u001b[0;34m]\u001b[0m\u001b[0;34m.\u001b[0m\u001b[0mfeature\u001b[0m\u001b[0;34m\u001b[0m\u001b[0;34m\u001b[0m\u001b[0m\n\u001b[0m\u001b[1;32m     26\u001b[0m     \u001b[0mcontext_words\u001b[0m \u001b[0;34m=\u001b[0m \u001b[0mcontext\u001b[0m\u001b[0;34m.\u001b[0m\u001b[0msplit\u001b[0m\u001b[0;34m(\u001b[0m\u001b[0;34m)\u001b[0m\u001b[0;34m\u001b[0m\u001b[0;34m\u001b[0m\u001b[0m\n\u001b[1;32m     27\u001b[0m \u001b[0;34m\u001b[0m\u001b[0m\n",
      "\u001b[0;31mTypeError\u001b[0m: 'NoneType' object is not subscriptable"
     ]
    }
   ],
   "source": [
    "import eli5\n",
    "from eli5.formatters import format_as_text, format_as_dataframe\n",
    "from eli5.lime import TextExplainer\n",
    "from wordcloud import WordCloud\n",
    "import matplotlib.pyplot as plt\n",
    "\n",
    "# Define the text corpus\n",
    "text = \"The quick brown fox jumps over the lazy dog. The quick brown fox jumps again over the lazy dog. The lazy dog is not quick, but the quick fox is always jumping.\"\n",
    "\n",
    "# Define the keyword for KWIC analysis\n",
    "keyword = \"fox\"\n",
    "\n",
    "# Perform KWIC analysis\n",
    "kwic = eli5.explain_weights(\n",
    "    [(w, 1 if w == keyword else 0) for w in text.split()],\n",
    "    vec=None,\n",
    "    top=10,\n",
    "    feature_re=None,\n",
    "    feature_filter=lambda x: x != \"<BIAS>\",\n",
    ")\n",
    "\n",
    "# Check if any features were found for the keyword\n",
    "if kwic is not None:\n",
    "    # Extract the context of the keyword\n",
    "    context = kwic.targets[0].feature\n",
    "    context_words = context.split()\n",
    "\n",
    "    # Generate the WordCloud\n",
    "    wordcloud = WordCloud(width=800, height=800, background_color='white', min_font_size=10, max_words=50).generate(text)\n",
    "\n",
    "    # Generate a new WordCloud that highlights the context of the keyword\n",
    "    keyword_cloud = WordCloud(width=800, height=800, background_color='white', min_font_size=10, max_words=50).generate_from_text(context)\n",
    "\n",
    "    # Combine the two WordClouds into a single image\n",
    "    fig, ax = plt.subplots(1, 2, figsize=(16, 8))\n",
    "    ax[0].imshow(wordcloud, interpolation='bilinear')\n",
    "    ax[0].set_title('WordCloud of Text Corpus')\n",
    "    ax[0].axis('off')\n",
    "    ax[1].imshow(keyword_cloud, interpolation='bilinear')\n",
    "    ax[1].set_title(f'WordCloud of Context for Keyword \"{keyword}\"')\n",
    "    ax[1].axis('off')\n",
    "\n",
    "    # Print the KWIC analysis as text and as a dataframe\n",
    "    print(format_as_text(kwic))\n",
    "    df = format_as_dataframe(kwic)\n",
    "    display(df)\n",
    "\n",
    "    plt.show()\n",
    "else:\n",
    "    print(f\"No context found for keyword '{keyword}'\") \n"
   ]
  }
 ],
 "metadata": {
  "kernelspec": {
   "display_name": "base",
   "language": "python",
   "name": "python3"
  },
  "language_info": {
   "codemirror_mode": {
    "name": "ipython",
    "version": 3
   },
   "file_extension": ".py",
   "mimetype": "text/x-python",
   "name": "python",
   "nbconvert_exporter": "python",
   "pygments_lexer": "ipython3",
   "version": "3.7.6"
  },
  "orig_nbformat": 4
 },
 "nbformat": 4,
 "nbformat_minor": 2
}
