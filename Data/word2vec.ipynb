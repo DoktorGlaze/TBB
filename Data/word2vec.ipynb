{
 "cells": [
  {
   "cell_type": "code",
   "execution_count": 17,
   "metadata": {},
   "outputs": [],
   "source": [
    "# Skapar modell för hela description text\n",
    "import pandas as pd\n",
    "import gensim\n",
    "from gensim.models import Word2Vec\n",
    "from gensim.utils import simple_preprocess\n",
    "\n",
    "# Step 1: Load the JSON file using Pandas and extract the text data\n",
    "data = pd.read_json('Testfil_FINAL.json')\n",
    "description_text = data['description_text']\n",
    "\n",
    "# Step 2: Preprocess the text data\n",
    "processed_data = [simple_preprocess(text) for text in description_text]\n",
    "\n",
    "# Step 3: Train the Word2Vec model\n",
    "model = Word2Vec(processed_data, min_count=1, vector_size=100)\n",
    "\n",
    "# Step 4: Save the trained model\n",
    "model.save('word2vec_model_desc_text')\n",
    "\n",
    "# You can now use the trained model for various tasks, such as word similarity or keyword-in-context searches.\n"
   ]
  },
  {
   "attachments": {},
   "cell_type": "markdown",
   "metadata": {},
   "source": []
  },
  {
   "cell_type": "code",
   "execution_count": 27,
   "metadata": {},
   "outputs": [],
   "source": [
    "# skapar modell för enstaka meningar i description text\n",
    "import pandas as pd\n",
    "import gensim\n",
    "from gensim.models import Word2Vec\n",
    "from gensim.utils import simple_preprocess\n",
    "from nltk.tokenize import sent_tokenize\n",
    "\n",
    "# Step 1: Load the JSON file using Pandas and extract the text data\n",
    "data = pd.read_json('Testfil_FINAL.json')\n",
    "description_text = data['description_text']\n",
    "\n",
    "# Step 2: Tokenize sentences in the text data\n",
    "sentences = []\n",
    "for text in description_text:\n",
    "    text_sentences = sent_tokenize(text)\n",
    "    sentences.extend(text_sentences)\n",
    "\n",
    "# Step 3: Preprocess the text data\n",
    "processed_data = [simple_preprocess(sentence) for sentence in sentences]\n",
    "\n",
    "# Step 4: Train the Word2Vec model\n",
    "model = Word2Vec(processed_data, min_count=1, vector_size=100)\n",
    "\n",
    "# Step 5: Save the trained model\n",
    "model.save('word2vec_model_desc_sentence')\n",
    "\n",
    "# You can now use the trained model for various tasks, such as word similarity or keyword-in-context searches.\n"
   ]
  },
  {
   "attachments": {},
   "cell_type": "markdown",
   "metadata": {},
   "source": [
    "# Skriver resultatet till textfil för granskning"
   ]
  },
  {
   "cell_type": "code",
   "execution_count": 20,
   "metadata": {},
   "outputs": [],
   "source": [
    "with open('sentences.txt', 'w', encoding='utf-8') as file:\n",
    "    for sentence in sentences:\n",
    "        file.write(sentence + '\\n')"
   ]
  },
  {
   "cell_type": "code",
   "execution_count": 43,
   "metadata": {},
   "outputs": [],
   "source": [
    "# save sentences to dataframe csv \n",
    "import pandas as pd\n",
    "\n",
    "# Create a list of dictionaries\n",
    "data_rows = []\n",
    "for sentence in sentences:\n",
    "    data_rows.append({'sentence': sentence})\n",
    "\n",
    "# Create a DataFrame from the list of dictionaries\n",
    "df = pd.DataFrame(data_rows)\n",
    "\n",
    "# Save the DataFrame to a file\n",
    "df.to_csv('sentences.csv', index=False)\n"
   ]
  },
  {
   "cell_type": "code",
   "execution_count": 45,
   "metadata": {},
   "outputs": [
    {
     "name": "stdout",
     "output_type": "stream",
     "text": [
      "                                                sentence\n",
      "18     Sista ansökningsdag är dock 2016-12-15 Kvalifi...\n",
      "34     Vill du vara med och rädda liv?Vill du vara me...\n",
      "93     * Har ett brinnande intresse för teknik och te...\n",
      "110    Som person är du kreativ och engagerad med god...\n",
      "125    * Göra ändringar i texter, bilder och banners ...\n",
      "...                                                  ...\n",
      "67329  Du bör vara kreativ, analytisk och ha en stark...\n",
      "68113  Du har en analytisk förmåga samtidigt som du k...\n",
      "68347  För att trivas i rollen som konsult hos oss tr...\n",
      "68492  Vi tror att du är analytiskt lagd, har en nyfi...\n",
      "68585  Du är analytiskt lagd och inte rädd för att ko...\n",
      "\n",
      "[415 rows x 1 columns]\n"
     ]
    }
   ],
   "source": [
    "import pandas as pd\n",
    "\n",
    "# Read the data from the file into a DataFrame\n",
    "df = pd.read_csv('sentences.csv')\n",
    "\n",
    "# Filter rows containing the specified words\n",
    "filtered_df = df[df['sentence'].str.contains('analytisk', case=False)]\n",
    "\n",
    "# Print the filtered DataFrame\n",
    "print(filtered_df)\n"
   ]
  },
  {
   "cell_type": "code",
   "execution_count": 46,
   "metadata": {},
   "outputs": [],
   "source": [
    "df.to_csv('sentences__filtered_analys.csv', index=False)"
   ]
  },
  {
   "cell_type": "code",
   "execution_count": 39,
   "metadata": {},
   "outputs": [
    {
     "name": "stdout",
     "output_type": "stream",
     "text": [
      "Similarity: 0.91 Sentence: pedagogisk\n",
      "Similarity: 0.91 Sentence: noggrann\n",
      "Similarity: 0.89 Sentence: strukturerad\n",
      "Similarity: 0.89 Sentence: kommunikativ\n",
      "Similarity: 0.87 Sentence: ansvarstagande\n",
      "Similarity: 0.87 Sentence: serviceinriktad\n",
      "Similarity: 0.85 Sentence: serviceminded\n",
      "Similarity: 0.85 Sentence: problemlösande\n",
      "Similarity: 0.85 Sentence: självgående\n",
      "Similarity: 0.84 Sentence: social\n"
     ]
    }
   ],
   "source": [
    "# Load the saved Word2Vec model\n",
    "model = Word2Vec.load('word2vec_model_desc_sentence')\n",
    "\n",
    "# Define a target sentence for similarity comparison\n",
    "target_sentence = \"analytisk\"\n",
    "\n",
    "# Preprocess the target sentence\n",
    "processed_target = simple_preprocess(target_sentence)\n",
    "\n",
    "# Find similar sentences\n",
    "similar_sentences = model.wv.most_similar(positive=processed_target, topn=10)\n",
    "\n",
    "# Print the similar sentences\n",
    "for sentence, similarity in similar_sentences:\n",
    "    print(f\"Similarity: {similarity:.2f} Sentence: {sentence}\")\n"
   ]
  },
  {
   "cell_type": "code",
   "execution_count": 42,
   "metadata": {},
   "outputs": [
    {
     "name": "stdout",
     "output_type": "stream",
     "text": [
      "['du', 'är', 'diplomatisk', 'har', 'god', 'analytisk', 'förmåga', 'och', 'kan', 'enkelt', 'röra', 'dig', 'mellan', 'detaljer', 'och', 'helheter']\n",
      "Similarity: 1.00 Sentence: du är diplomatisk har god analytisk förmåga och kan enkelt röra dig mellan detaljer och helheter\n",
      "Similarity: 0.94 Sentence: du är bra på problemlösning och har god analytisk förmåga\n",
      "Similarity: 0.93 Sentence: god kommunikativ och social förmåga samt ordning och reda är starka kort hos dig\n",
      "Similarity: 0.93 Sentence: är du drivande och strukturerad och har förmåga att samarbeta\n",
      "Similarity: 0.93 Sentence: du är strukturerad självgående och har förmåga att prioritera\n"
     ]
    }
   ],
   "source": [
    "# Load the saved Word2Vec model\n",
    "model = Word2Vec.load('word2vec_model_desc_sentence')\n",
    "\n",
    "# Define a target sentence for similarity comparison\n",
    "target_sentence = \"Du är diplomatisk, har god analytisk förmåga och kan enkelt röra dig mellan detaljer och helheter.\"\n",
    "\n",
    "# Preprocess the target sentence\n",
    "processed_target = simple_preprocess(target_sentence)\n",
    "\n",
    "print(processed_target)\n",
    "\n",
    "# Find similar sentences\n",
    "similar_sentences = []\n",
    "for sentence in processed_data:\n",
    "    if len(sentence) > 0:\n",
    "        similarity = model.wv.n_similarity(processed_target, sentence)\n",
    "        similar_sentences.append((sentence, similarity))\n",
    "\n",
    "# Sort the similar sentences based on similarity score\n",
    "similar_sentences = sorted(similar_sentences, key=lambda x: x[1], reverse=True)\n",
    "\n",
    "# Print the top 5 similar sentences\n",
    "for sentence, similarity in similar_sentences[:5]:\n",
    "    original_sentence = ' '.join(sentence)\n",
    "    print(f\"Similarity: {similarity:.2f} Sentence: {original_sentence}\")\n"
   ]
  },
  {
   "cell_type": "code",
   "execution_count": 34,
   "metadata": {},
   "outputs": [
    {
     "name": "stdout",
     "output_type": "stream",
     "text": [
      "<class 'list'>\n"
     ]
    }
   ],
   "source": []
  }
 ],
 "metadata": {
  "kernelspec": {
   "display_name": "base",
   "language": "python",
   "name": "python3"
  },
  "language_info": {
   "codemirror_mode": {
    "name": "ipython",
    "version": 3
   },
   "file_extension": ".py",
   "mimetype": "text/x-python",
   "name": "python",
   "nbconvert_exporter": "python",
   "pygments_lexer": "ipython3",
   "version": "3.7.6"
  },
  "orig_nbformat": 4
 },
 "nbformat": 4,
 "nbformat_minor": 2
}
