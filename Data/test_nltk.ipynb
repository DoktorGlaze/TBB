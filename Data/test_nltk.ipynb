{
 "cells": [
  {
   "cell_type": "code",
   "execution_count": 8,
   "metadata": {},
   "outputs": [],
   "source": [
    "import json\n",
    "import nltk\n",
    "from nltk.tokenize import word_tokenize\n",
    "from nltk.probability import FreqDist\n",
    "\n",
    "# Load the JSON file\n",
    "with open('Testfil_samtliga.json', 'r', encoding='utf-8') as f:\n",
    "    job_ads = json.load(f)\n",
    "\n"
   ]
  },
  {
   "cell_type": "code",
   "execution_count": 13,
   "metadata": {},
   "outputs": [
    {
     "name": "stdout",
     "output_type": "stream",
     "text": [
      "[('and', 18557), ('the', 11720), ('in', 10951), ('to', 9785), ('kommer', 8939), ('a', 8319), ('of', 8129), ('you', 6618), ('arbeta', 5699), ('erfarenhet', 5636), ('with', 5391), ('work', 5262), ('söker', 4846), ('we', 4788), ('hos', 4694), ('•', 4666), ('for', 4468), ('it', 4437), ('team', 4365), ('samt', 4339), ('vill', 4333), ('tjänsten', 4017), ('are', 3987), ('is', 3812), ('our', 3745)]\n"
     ]
    }
   ],
   "source": [
    "from nltk.corpus import stopwords\n",
    "from nltk.tokenize import word_tokenize\n",
    "import string\n",
    "\n",
    "# Concatenate all job ad texts into a single string\n",
    "all_text = ''\n",
    "for ad in job_ads:\n",
    "    if ad['description.text'] is not None:\n",
    "        all_text += ad['description.text'] + ' '\n",
    "\n",
    "# Load the Swedish stopwords\n",
    "swedish_stopwords = stopwords.words('swedish')\n",
    "\n",
    "# Tokenize the text into words\n",
    "words = word_tokenize(all_text.lower())\n",
    "\n",
    "# Filter out stopwords and non-alphabetic words\n",
    "filtered_words = [word for word in words if word not in swedish_stopwords and word.isalpha()]\n",
    "\n",
    "# Compute the frequency distribution of words\n",
    "fdist = FreqDist(filtered_words)\n",
    "\n",
    "# Print the 25 most common words\n",
    "print(fdist.most_common(25))\n"
   ]
  }
 ],
 "metadata": {
  "kernelspec": {
   "display_name": "Python 3",
   "language": "python",
   "name": "python3"
  },
  "language_info": {
   "codemirror_mode": {
    "name": "ipython",
    "version": 3
   },
   "file_extension": ".py",
   "mimetype": "text/x-python",
   "name": "python",
   "nbconvert_exporter": "python",
   "pygments_lexer": "ipython3",
   "version": "3.11.1"
  },
  "orig_nbformat": 4
 },
 "nbformat": 4,
 "nbformat_minor": 2
}
