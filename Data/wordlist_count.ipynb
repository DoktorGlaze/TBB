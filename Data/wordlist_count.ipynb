{
 "cells": [
  {
   "cell_type": "code",
   "execution_count": 1,
   "metadata": {},
   "outputs": [],
   "source": [
    "import json\n",
    "\n",
    "# Load the JSON file\n",
    "with open('Testfil_samtliga.json', 'r', encoding='utf-8') as f:\n",
    "    job_ads = json.load(f)"
   ]
  },
  {
   "cell_type": "code",
   "execution_count": 6,
   "metadata": {},
   "outputs": [
    {
     "name": "stdout",
     "output_type": "stream",
     "text": [
      "stark 461\n",
      "drivkraft 122\n",
      "chef 155\n",
      "analys 225\n",
      "analytisk 252\n",
      "driven 691\n",
      "individer 78\n",
      "bevisad 1\n",
      "arbetskraft 12\n",
      "beslut 233\n",
      "kompetent 92\n",
      "självständig 94\n"
     ]
    }
   ],
   "source": [
    "import re\n",
    "\n",
    "# List of words to count occurrences for\n",
    "target_words = []\n",
    "\n",
    "with open(\"ordlista.txt\", \"r\", encoding='utf-8') as file:\n",
    "    lines = file.readlines()\n",
    "\n",
    "for line in lines:\n",
    "    words = line.split()\n",
    "    for word in words:\n",
    "        target_words.append(word)\n",
    "\n",
    "# Count occurrences of target words\n",
    "word_counts = {}\n",
    "for ad in job_ads:\n",
    "    if ad['description.text'] is not None:\n",
    "        ad_text = ad['description.text'].lower().replace('.', ' ')\n",
    "        for target_word in target_words:\n",
    "            count = len(re.findall(r'\\b{}\\b'.format(target_word), ad_text))\n",
    "            if target_word in word_counts:\n",
    "                word_counts[target_word] += count\n",
    "            else:\n",
    "                word_counts[target_word] = count\n",
    "\n",
    "# Print the counts of target words\n",
    "for target_word, count in word_counts.items():\n",
    "    print(target_word, count)\n"
   ]
  },
  {
   "cell_type": "code",
   "execution_count": 11,
   "metadata": {},
   "outputs": [],
   "source": [
    "import re\n",
    "import json\n",
    "\n",
    "# List of words to count occurrences for\n",
    "target_words = []\n",
    "\n",
    "with open(\"ordlista.txt\", \"r\", encoding='utf-8') as file:\n",
    "    lines = file.readlines()\n",
    "\n",
    "for line in lines:\n",
    "    words = line.split()\n",
    "    for word in words:\n",
    "        target_words.append(word)\n",
    "\n",
    "# Count occurrences of target words\n",
    "for ad in job_ads:\n",
    "    if ad['description.text'] is not None:\n",
    "        ad_text = ad['description.text'].lower().replace('.', ' ')\n",
    "        word_count = 0\n",
    "        for target_word in target_words:\n",
    "            count = len(re.findall(r'\\b{}\\b'.format(target_word), ad_text))\n",
    "            word_count += count\n",
    "        ad['Bad_words'] = word_count\n",
    "\n",
    "# Write the modified job_ads list to a JSON file\n",
    "#with open(\"output.json\", \"w\", encoding='utf-8') as file:\n",
    "#    json.dump(job_ads, file, ensure_ascii=False, indent=4)"
   ]
  },
  {
   "cell_type": "code",
   "execution_count": 38,
   "metadata": {},
   "outputs": [
    {
     "name": "stdout",
     "output_type": "stream",
     "text": [
      "Amount of bad ads: 39.825 %\n",
      "Total amount of bad words in bad ads: 2416\n",
      "Total amount of bad ads: 1593\n",
      "Average bad words per bad ad: 1.5166352793471438\n"
     ]
    }
   ],
   "source": [
    "# Räkna antal annonser som har dåliga ord\n",
    "bad_ads = 0\n",
    "for ad in job_ads:\n",
    "    if 'Bad_words' in ad and ad['Bad_words'] != 0:\n",
    "        bad_ads += 1\n",
    "    else:\n",
    "        continue\n",
    "\n",
    "# Count the average amount of bad words for each job ad\n",
    "total_bad_words = 0\n",
    "for ad in job_ads:\n",
    "    if 'Bad_words' in ad:\n",
    "        total_bad_words += ad['Bad_words']\n",
    "average_bad_words = total_bad_words / bad_ads\n",
    "\n",
    "percentage_bad_ads = bad_ads / len(job_ads) * 100\n",
    "\n",
    "print('Amount of bad ads:', percentage_bad_ads, '%')\n",
    "print('Total amount of bad words in bad ads:', total_bad_words)\n",
    "print('Total amount of bad ads:', bad_ads)\n",
    "# Print the average amount of bad words\n",
    "print(\"Average bad words per bad ad:\", average_bad_words)"
   ]
  }
 ],
 "metadata": {
  "kernelspec": {
   "display_name": "Python 3",
   "language": "python",
   "name": "python3"
  },
  "language_info": {
   "codemirror_mode": {
    "name": "ipython",
    "version": 3
   },
   "file_extension": ".py",
   "mimetype": "text/x-python",
   "name": "python",
   "nbconvert_exporter": "python",
   "pygments_lexer": "ipython3",
   "version": "3.11.1"
  },
  "orig_nbformat": 4
 },
 "nbformat": 4,
 "nbformat_minor": 2
}
