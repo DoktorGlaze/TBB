{
 "cells": [
  {
   "cell_type": "code",
   "execution_count": 14,
   "metadata": {},
   "outputs": [],
   "source": [
    "import json\n",
    "\n",
    "# Load the JSON file\n",
    "with open('2022_FLATLOWCAL.json', 'r', encoding='utf-8') as f:\n",
    "    job_ads = json.load(f)"
   ]
  },
  {
   "cell_type": "code",
   "execution_count": 21,
   "metadata": {},
   "outputs": [
    {
     "name": "stdout",
     "output_type": "stream",
     "text": [
      "stark 6693\n",
      "drivkraft 2004\n",
      "chef 2124\n",
      "analys 3140\n",
      "analytisk 4333\n",
      "driven 13713\n",
      "individer 1091\n",
      "bevisad 44\n",
      "arbetskraft 110\n",
      "beslut 5155\n",
      "kompetent 1220\n",
      "självständig 1062\n"
     ]
    }
   ],
   "source": [
    "import re\n",
    "\n",
    "# List of words to count occurrences for\n",
    "target_words = ['stark', 'drivkraft', 'chef', 'analys', 'analytisk', 'driven', 'individer', 'bevisad', 'arbetskraft', 'beslut', 'kompetent', 'självständig']\n",
    "\n",
    "# Count occurrences of target words\n",
    "word_counts = {}\n",
    "for ad in job_ads:\n",
    "    if ad['description.text'] is not None:\n",
    "        ad_text = ad['description.text'].lower().replace('.', ' ')\n",
    "        for target_word in target_words:\n",
    "            count = len(re.findall(r'\\b{}\\b'.format(target_word), ad_text))\n",
    "            if target_word in word_counts:\n",
    "                word_counts[target_word] += count\n",
    "            else:\n",
    "                word_counts[target_word] = count\n",
    "\n",
    "# Print the counts of target words\n",
    "for target_word, count in word_counts.items():\n",
    "    print(target_word, count)\n"
   ]
  },
  {
   "cell_type": "code",
   "execution_count": null,
   "metadata": {},
   "outputs": [],
   "source": [
    "from nltk.corpus import stopwords\n",
    "from nltk.tokenize import word_tokenize\n",
    "from nltk.probability import FreqDist\n",
    "import string\n",
    "\n",
    "# Concatenate all job ad texts into a single string\n",
    "all_text = ''\n",
    "for ad in job_ads:\n",
    "    if ad['description.text'] is not None:\n",
    "        all_text += ad['description.text'] + ' '\n",
    "\n",
    "# Load the Swedish stopwords\n",
    "swedish_stopwords = stopwords.words('swedish')\n",
    "\n",
    "english_stopwords = stopwords.words('english')\n",
    "\n",
    "# Tokenize the text into words\n",
    "words = word_tokenize(all_text.lower())\n",
    "\n",
    "# Filter out stopwords and non-alphabetic words\n",
    "filtered_words = [word for word in words if word not in swedish_stopwords and word not in english_stopwords and word.isalpha()]\n",
    "\n",
    "# Compute the frequency distribution of words\n",
    "fdist = FreqDist(filtered_words)\n",
    "\n",
    "# Print the 10 most common words\n",
    "print(fdist.most_common(10))"
   ]
  }
 ],
 "metadata": {
  "kernelspec": {
   "display_name": "Python 3",
   "language": "python",
   "name": "python3"
  },
  "language_info": {
   "codemirror_mode": {
    "name": "ipython",
    "version": 3
   },
   "file_extension": ".py",
   "mimetype": "text/x-python",
   "name": "python",
   "nbconvert_exporter": "python",
   "pygments_lexer": "ipython3",
   "version": "3.11.1"
  },
  "orig_nbformat": 4
 },
 "nbformat": 4,
 "nbformat_minor": 2
}
