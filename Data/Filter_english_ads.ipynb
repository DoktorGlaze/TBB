{
 "cells": [
  {
   "cell_type": "code",
   "execution_count": 3,
   "metadata": {},
   "outputs": [],
   "source": [
    "import json\n",
    "from langdetect import detect, LangDetectException\n",
    "\n",
    "# Open the JSON file\n",
    "with open('2016_2023_FINAL.json', encoding='utf-8') as f:\n",
    "    data = json.load(f)"
   ]
  },
  {
   "cell_type": "code",
   "execution_count": 31,
   "metadata": {},
   "outputs": [],
   "source": [
    "# Create a new list with only objects that have a non-null Swedish description\n",
    "new_data = []\n",
    "for obj in data:\n",
    "    if obj['description.text'] is not None:\n",
    "        try:\n",
    "            language = detect(obj['description.text'])\n",
    "            if language == 'sv':\n",
    "                new_data.append(obj)\n",
    "        except LangDetectException:\n",
    "            pass\n",
    "\n",
    "# Loop over each object in the data and extract the first 4 characters of the publication_date value (KEEP ONLY YEAR)\n",
    "for obj in new_data:\n",
    "    obj['publication_date'] = obj['publication_date'][:4]\n",
    "\n",
    "\n",
    "# Save the filtered data to a new JSON file\n",
    "with open('2016_2023_FINAL.json', 'w', encoding='utf-8') as file:\n",
    "    json.dump(new_data, file, ensure_ascii=False, indent=4)\n"
   ]
  },
  {
   "cell_type": "code",
   "execution_count": 5,
   "metadata": {},
   "outputs": [],
   "source": [
    "##### This code adds blank space after dot, comma, questionmark and exclamationpoints if it doesn't exist #####\n",
    "\n",
    "import re\n",
    "import json\n",
    "\n",
    "# Load the JSON file as UTF-8\n",
    "with open('Testfil_FINAL.json', 'r', encoding='utf-8') as f:\n",
    "    job_data = json.load(f)\n",
    "\n",
    "# Iterate through every object in the array and modify the description_text field\n",
    "for job_ad in job_data:\n",
    "    # Get the description_text\n",
    "    description_text = job_ad['description_text']\n",
    "\n",
    "    # Replace punctuation marks with a space\n",
    "    description_text = re.sub(r'([.,?!])(?!\\s)', r'\\1 ', description_text)\n",
    "\n",
    "    # Update the job_ad object with the new description_text\n",
    "    job_ad['description_text'] = description_text\n",
    "\n",
    "# Write the JSON file as UTF-8\n",
    "with open('New_Testfile.json', 'w', encoding='utf-8') as f:\n",
    "    json.dump(job_data, f, indent=4, ensure_ascii=False)"
   ]
  }
 ],
 "metadata": {
  "kernelspec": {
   "display_name": "Python 3",
   "language": "python",
   "name": "python3"
  },
  "language_info": {
   "codemirror_mode": {
    "name": "ipython",
    "version": 3
   },
   "file_extension": ".py",
   "mimetype": "text/x-python",
   "name": "python",
   "nbconvert_exporter": "python",
   "pygments_lexer": "ipython3",
   "version": "3.11.1"
  },
  "orig_nbformat": 4
 },
 "nbformat": 4,
 "nbformat_minor": 2
}
