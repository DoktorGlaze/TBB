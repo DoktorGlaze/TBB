{
 "cells": [
  {
   "cell_type": "code",
   "execution_count": 3,
   "metadata": {},
   "outputs": [],
   "source": [
    "import json\n",
    "from langdetect import detect, LangDetectException\n",
    "\n",
    "# Open the JSON file\n",
    "with open('2016_2023_FINAL.json', encoding='utf-8') as f:\n",
    "    data = json.load(f)"
   ]
  },
  {
   "cell_type": "code",
   "execution_count": 31,
   "metadata": {},
   "outputs": [],
   "source": [
    "# Create a new list with only objects that have a non-null Swedish description\n",
    "new_data = []\n",
    "for obj in data:\n",
    "    if obj['description.text'] is not None:\n",
    "        try:\n",
    "            language = detect(obj['description.text'])\n",
    "            if language == 'sv':\n",
    "                new_data.append(obj)\n",
    "        except LangDetectException:\n",
    "            pass\n",
    "\n",
    "# Loop over each object in the data and extract the first 4 characters of the publication_date value (KEEP ONLY YEAR)\n",
    "for obj in new_data:\n",
    "    obj['publication_date'] = obj['publication_date'][:4]\n",
    "\n",
    "\n",
    "# Save the filtered data to a new JSON file\n",
    "with open('2016_2023_FINAL.json', 'w', encoding='utf-8') as file:\n",
    "    json.dump(new_data, file, ensure_ascii=False, indent=4)\n"
   ]
  }
 ],
 "metadata": {
  "kernelspec": {
   "display_name": "Python 3",
   "language": "python",
   "name": "python3"
  },
  "language_info": {
   "codemirror_mode": {
    "name": "ipython",
    "version": 3
   },
   "file_extension": ".py",
   "mimetype": "text/x-python",
   "name": "python",
   "nbconvert_exporter": "python",
   "pygments_lexer": "ipython3",
   "version": "3.11.1"
  },
  "orig_nbformat": 4
 },
 "nbformat": 4,
 "nbformat_minor": 2
}
