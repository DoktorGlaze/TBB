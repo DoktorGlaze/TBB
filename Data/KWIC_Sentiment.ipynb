{
 "cells": [
  {
   "cell_type": "code",
   "execution_count": 1,
   "metadata": {},
   "outputs": [],
   "source": [
    "import pandas as pd\n",
    "\n",
    "job_ads = pd.read_json('Testfil_FINAL_2.json')"
   ]
  },
  {
   "attachments": {},
   "cell_type": "markdown",
   "metadata": {},
   "source": [
    "## OLD"
   ]
  },
  {
   "cell_type": "code",
   "execution_count": 2,
   "metadata": {},
   "outputs": [],
   "source": [
    "from nltk import word_tokenize\n",
    "from nltk.text import Text\n",
    "from nltk.corpus import stopwords\n",
    "import string\n",
    "\n",
    "# Create a set of unique job ad descriptions\n",
    "texts = set([t.lower() for t in job_ads['description_text'].tolist()])\n",
    "\n",
    "# Create a stop_words set\n",
    "stop_words = set(stopwords.words('swedish'))\n",
    "\n",
    "# Tokenize the descriptions and remove stopwords and punctuations\n",
    "tokens = [[w.translate(str.maketrans('', '', string.punctuation)) for w in word_tokenize(d) if not w in stop_words] for d in texts]\n",
    "\n",
    "# Create an NLTK Text object from the tokens\n",
    "text = Text([t for d in tokens for t in d])"
   ]
  },
  {
   "attachments": {},
   "cell_type": "markdown",
   "metadata": {},
   "source": [
    "## 1. Tokeniza, ta bort stopwords och punctuation"
   ]
  },
  {
   "cell_type": "code",
   "execution_count": 47,
   "metadata": {},
   "outputs": [],
   "source": [
    "from nltk.tokenize import sent_tokenize\n",
    "from nltk import word_tokenize\n",
    "\n",
    "description_text = job_ads['description_text']\n",
    "\n",
    "sentences = []\n",
    "seen_sentences = set()\n",
    "for text in description_text:\n",
    "    text_sentences = sent_tokenize(text.lower())\n",
    "    for sentence in text_sentences:\n",
    "        if sentence not in seen_sentences:\n",
    "            sentences.append(sentence)\n",
    "            seen_sentences.add(sentence)\n",
    "\n",
    "# Create a stop_words set\n",
    "stop_words = set(stopwords.words('swedish'))\n",
    "\n",
    "# Tokenize the descriptions and remove stopwords and punctuations\n",
    "tokens = [[w.translate(str.maketrans('', '', string.punctuation)) for w in word_tokenize(d) if not w in stop_words] for d in sentences]\n",
    "\n",
    "# Create an NLTK Text object from the tokens\n",
    "text = Text([t for d in tokens for t in d])"
   ]
  },
  {
   "cell_type": "code",
   "execution_count": 45,
   "metadata": {},
   "outputs": [],
   "source": [
    "# Write sentences list to a text file\n",
    "with open('sentences_test2.txt', 'w', encoding='utf-8') as f:\n",
    "    f.write('\\n'.join(sentences))"
   ]
  },
  {
   "attachments": {},
   "cell_type": "markdown",
   "metadata": {},
   "source": [
    "## 2. Gör en KWIC och räkna vanligaste förekommande ord"
   ]
  },
  {
   "cell_type": "code",
   "execution_count": 57,
   "metadata": {},
   "outputs": [
    {
     "name": "stdout",
     "output_type": "stream",
     "text": [
      "Most common words in KWIC for \"stark\":\n",
      "vilja: 42\n",
      "drivkraft: 29\n",
      "tillväxt: 26\n",
      "gemenskap: 18\n",
      "företag: 16\n",
      "team: 14\n",
      "präglas: 13\n",
      "teamkänsla: 13\n",
      "person: 11\n",
      "sammanhållning: 10\n"
     ]
    }
   ],
   "source": [
    "from collections import Counter\n",
    "\n",
    "# Define the keywords to search for\n",
    "keywords = ['stark']\n",
    "\n",
    "# Define the number of characters to show before and after the keyword\n",
    "window_size = 1\n",
    "\n",
    "for keyword in keywords:\n",
    "    # Get the indices of all occurrences of the keyword\n",
    "    indices = [i for i, w in enumerate(text) if w == keyword]\n",
    "\n",
    "    # Define a list to store the KWIC for the keyword\n",
    "    kwic = []\n",
    "\n",
    "    # Generate the KWIC for each occurrence of the keyword\n",
    "    for i in indices:\n",
    "        left = ' '.join(text[i-window_size:i])\n",
    "        right = ' '.join(text[i+1:i+window_size+1])\n",
    "        kwic.append(left + ' ' + keyword + ' ' + right)\n",
    "\n",
    "    # Identify the frequently occurring keywords in the KWIC output\n",
    "    kwic_words = [w for s in kwic for w in s.split() if w != keyword and w.isalpha()]\n",
    "    kwic_counter = Counter(kwic_words)\n",
    "    print(f'Most common words in KWIC for \"{keyword}\":')\n",
    "    for word, count in kwic_counter.most_common(10):\n",
    "        print(f'{word}: {count}')"
   ]
  },
  {
   "attachments": {},
   "cell_type": "markdown",
   "metadata": {},
   "source": [
    "## 3. Sentiment-analys"
   ]
  },
  {
   "cell_type": "code",
   "execution_count": 5,
   "metadata": {},
   "outputs": [
    {
     "name": "stdout",
     "output_type": "stream",
     "text": [
      "Keyword: analys, Sentiment score: 0.031\n",
      "Keyword: analytisk, Sentiment score: 0.139\n",
      "Keyword: beslut, Sentiment score: 0.046\n",
      "Keyword: chef, Sentiment score: 0.031\n",
      "Keyword: driven, Sentiment score: 0.148\n",
      "Keyword: drivkraft, Sentiment score: 0.083\n",
      "Keyword: individer, Sentiment score: 0.086\n",
      "Keyword: kompetent, Sentiment score: 0.052\n",
      "Keyword: självständig, Sentiment score: 0.104\n",
      "Keyword: stark, Sentiment score: -0.138\n",
      "Average sentiment score: 0.05812388760757177\n"
     ]
    }
   ],
   "source": [
    "from nltk.sentiment import SentimentIntensityAnalyzer\n",
    "from textblob import TextBlob\n",
    "\n",
    "# Load the sentiment analyzers\n",
    "sia = SentimentIntensityAnalyzer()\n",
    "\n",
    "# Define a list to store the sentiment scores\n",
    "sentiment_scores = []\n",
    "\n",
    "# Define the keywords to search for\n",
    "keywords = ['analys', 'analytisk', 'beslut', 'chef', 'driven', 'drivkraft', 'individer', 'kompetent', 'självständig', 'stark']\n",
    "\n",
    "# Define the number of characters to show before and after the keyword\n",
    "window_size = 15\n",
    "\n",
    "# Iterate through each keyword\n",
    "for keyword in keywords:\n",
    "    # Get the indices of all occurrences of the keyword\n",
    "    indices = [i for i, w in enumerate(text) if w == keyword]\n",
    "\n",
    "    # Define a list to store the KWIC for the keyword\n",
    "    kwic = []\n",
    "\n",
    "    # Generate the KWIC for each occurrence of the keyword\n",
    "    for i in indices:\n",
    "        left = ' '.join(text[i-window_size:i])\n",
    "        right = ' '.join(text[i+1:i+window_size+1])\n",
    "        kwic.append(left + ' ' + keyword + ' ' + right)\n",
    "\n",
    "    # Calculate the sentiment score for the KWICs\n",
    "    kwic_sentiment_scores = []\n",
    "    for kwic_text in kwic:\n",
    "        sia_scores = sia.polarity_scores(kwic_text)\n",
    "        tb_scores = TextBlob(kwic_text).sentiment\n",
    "        # Combine the sentiment scores from the two analyzers\n",
    "        compound_score = sia_scores['compound'] + tb_scores.polarity\n",
    "        kwic_sentiment_scores.append(compound_score)\n",
    "\n",
    "    # Check if there are any sentiment scores for the keyword\n",
    "    if kwic_sentiment_scores:\n",
    "        # Calculate the average sentiment score for the keyword\n",
    "        avg_sentiment = sum(kwic_sentiment_scores) / len(kwic_sentiment_scores)\n",
    "        sentiment_scores.append(avg_sentiment)\n",
    "        print(f\"Keyword: {keyword}, Sentiment score: {avg_sentiment:.3f}\")\n",
    "    else:\n",
    "        print(f\"No sentiment scores found for keyword: {keyword}\")\n",
    "\n",
    "# Calculate the average sentiment score if there are any sentiment scores\n",
    "if sentiment_scores:\n",
    "    avg_sentiment_score = sum(sentiment_scores) / len(sentiment_scores)\n",
    "    print(\"Average sentiment score:\", avg_sentiment_score)\n",
    "else:\n",
    "    print(\"No sentiment scores found for any keywords\")\n"
   ]
  },
  {
   "cell_type": "code",
   "execution_count": 15,
   "metadata": {},
   "outputs": [
    {
     "name": "stdout",
     "output_type": "stream",
     "text": [
      "Keyword: analys, Sentiment score: 0.031\n",
      "Keyword: analytisk, Sentiment score: 0.139\n",
      "Keyword: beslut, Sentiment score: 0.046\n",
      "Keyword: chef, Sentiment score: 0.031\n",
      "Keyword: driven, Sentiment score: 0.148\n",
      "Keyword: drivkraft, Sentiment score: 0.083\n",
      "Keyword: individer, Sentiment score: 0.086\n",
      "Keyword: kompetent, Sentiment score: 0.052\n",
      "Keyword: självständig, Sentiment score: 0.104\n",
      "Keyword: stark, Sentiment score: -0.138\n",
      "Average sentiment score: 0.058\n"
     ]
    }
   ],
   "source": [
    "import csv\n",
    "from nltk.sentiment import SentimentIntensityAnalyzer\n",
    "from textblob import TextBlob\n",
    "\n",
    "# Load the sentiment analyzers\n",
    "sia = SentimentIntensityAnalyzer()\n",
    "\n",
    "# Define a list to store the sentiment scores\n",
    "sentiment_scores = []\n",
    "\n",
    "# Define the keywords to search for\n",
    "keywords = ['analys', 'analytisk', 'beslut', 'chef', 'driven', 'drivkraft', 'individer', 'kompetent', 'självständig', 'stark']\n",
    "\n",
    "# Define the number of characters to show before and after the keyword\n",
    "window_size = 15\n",
    "\n",
    "# Define the path to your CSV file\n",
    "csv_file_path = 'keyword_sentence_similarity.csv'\n",
    "\n",
    "# Read the CSV file\n",
    "with open(csv_file_path, 'r') as file:\n",
    "    reader = csv.DictReader(file)\n",
    "    fieldnames = reader.fieldnames + ['Sentiment']\n",
    "    rows = list(reader)\n",
    "\n",
    "# Iterate through each keyword\n",
    "for keyword in keywords:\n",
    "    # Get the indices of all occurrences of the keyword\n",
    "    indices = [i for i, w in enumerate(text) if w == keyword]\n",
    "\n",
    "    # Define a list to store the KWIC for the keyword\n",
    "    kwic = []\n",
    "\n",
    "    # Generate the KWIC for each occurrence of the keyword\n",
    "    for i in indices:\n",
    "        left = ' '.join(text[i-window_size:i])\n",
    "        right = ' '.join(text[i+1:i+window_size+1])\n",
    "        kwic.append(left + ' ' + keyword + ' ' + right)\n",
    "\n",
    "    # Calculate the sentiment score for the KWICs\n",
    "    kwic_sentiment_scores = []\n",
    "    for kwic_text in kwic:\n",
    "        sia_scores = sia.polarity_scores(kwic_text)\n",
    "        tb_scores = TextBlob(kwic_text).sentiment\n",
    "        # Combine the sentiment scores from the two analyzers\n",
    "        compound_score = sia_scores['compound'] + tb_scores.polarity\n",
    "        kwic_sentiment_scores.append(compound_score)\n",
    "\n",
    "    # Check if there are any sentiment scores for the keyword\n",
    "    if kwic_sentiment_scores:\n",
    "        # Calculate the average sentiment score for the keyword\n",
    "        avg_sentiment = sum(kwic_sentiment_scores) / len(kwic_sentiment_scores)\n",
    "        sentiment_scores.append(avg_sentiment)\n",
    "        print(f\"Keyword: {keyword}, Sentiment score: {avg_sentiment:.3f}\")\n",
    "\n",
    "        # Update the 'Sentiment' column in the rows list\n",
    "        for row in rows:\n",
    "            if keyword in row['Keyword']:\n",
    "                row['Sentiment'] = format(avg_sentiment, '.3f')\n",
    "    else:\n",
    "        print(f\"No sentiment scores found for keyword: {keyword}\")\n",
    "\n",
    "# Save the updated rows to the CSV file\n",
    "with open('keyword_sentence_similarity_2.csv', 'w', newline='') as file:\n",
    "    writer = csv.DictWriter(file, fieldnames=fieldnames)\n",
    "    writer.writeheader()\n",
    "    writer.writerows(rows)\n",
    "\n",
    "# Calculate the average sentiment score if there are any sentiment scores\n",
    "if sentiment_scores:\n",
    "    avg_sentiment_score = sum(sentiment_scores) / len(sentiment_scores)\n",
    "    print(\"Average sentiment score:\", format(avg_sentiment_score, '.3f'))\n",
    "else:\n",
    "    print(\"No sentiment scores found for any keywords\")\n"
   ]
  },
  {
   "cell_type": "code",
   "execution_count": 4,
   "metadata": {},
   "outputs": [
    {
     "data": {
      "image/png": "[encoded data removed]",
      "text/plain": [
       "<Figure size 1200x600 with 1 Axes>"
      ]
     },
     "metadata": {},
     "output_type": "display_data"
    }
   ],
   "source": [
    "import matplotlib.pyplot as plt\n",
    "\n",
    "# Define the manually selected words for the red and green columns\n",
    "red_words = ['analys', 'analytisk', 'beslut', 'chef', 'driven', 'drivkraft', 'individer', 'kompetent', 'självständig', 'stark']\n",
    "green_words = ['utredning', 'test', 'data', 'systematisk', 'val', 'slutsatser', 'omdöme', 'agera', 'ledare', 'motiverad', 'inspirerad', 'fokuserad', 'initiativförmåga', 'inspiration', 'energi', 'personer', 'människor', 'kunnig', 'självgående', 'stabil', 'solid']\n",
    "\n",
    "# Filter out keywords that have no sentiment score\n",
    "data = [(kw, score) for kw, score in zip(keywords, sentiment_scores) if score is not None]\n",
    "\n",
    "# Separate the filtered data into two lists, for red and green columns\n",
    "red_data = [(kw, score) for kw, score in data if kw in red_words]\n",
    "green_data = [(kw, score) for kw, score in data if kw in green_words]\n",
    "\n",
    "# Plot the bar chart\n",
    "fig, ax = plt.subplots(figsize=(12, 6))\n",
    "ax.bar(range(len(data)), [x[1] for x in data], align='center', width=0.5)\n",
    "ax.set_xticks(range(len(data)))\n",
    "ax.set_xticklabels([x[0] for x in data], fontsize=12)\n",
    "ax.tick_params(axis='x', labelrotation=90, labelsize=16, pad=14)\n",
    "ax.tick_params(axis='y', labelsize=16)\n",
    "\n",
    "# Color the bars for the red and green words differently\n",
    "for i, (kw, score) in enumerate(data):\n",
    "    if kw in red_words:\n",
    "        ax.get_children()[i].set_color('red')\n",
    "    elif kw in green_words:\n",
    "        ax.get_children()[i].set_color('green')\n",
    "\n",
    "plt.show()"
   ]
  },
  {
   "cell_type": "code",
   "execution_count": 155,
   "metadata": {},
   "outputs": [
    {
     "name": "stdout",
     "output_type": "stream",
     "text": [
      "Keyword: stark, Sentiment score: -0.200\n",
      "Keyword: drivkraft, Sentiment score: -0.133\n",
      "Keyword: chef, Sentiment score: 0.000\n",
      "Keyword: analys, Sentiment score: 0.000\n",
      "Keyword: analytisk, Sentiment score: 0.273\n",
      "Keyword: driven, Sentiment score: 0.000\n",
      "Keyword: individer, Sentiment score: 0.000\n",
      "Keyword: beslut, Sentiment score: 0.000\n",
      "Keyword: kompetent, Sentiment score: 0.000\n",
      "Keyword: självständig, Sentiment score: 0.000\n"
     ]
    }
   ],
   "source": [
    "from nltk.sentiment import SentimentIntensityAnalyzer\n",
    "from textblob import TextBlob\n",
    "import pandas as pd\n",
    "\n",
    "# Load the data from the CSV file\n",
    "df = pd.read_csv('keyword_sentence_similarity.csv')\n",
    "\n",
    "# Define the sentiment analyzers\n",
    "sia = SentimentIntensityAnalyzer()\n",
    "\n",
    "# Define a function to analyze the sentiment of a group of sentences for a keyword\n",
    "def analyze_keyword_sentiment(keyword, sentences):\n",
    "    # Define a list to store the sentiment scores\n",
    "    sentiment_scores = []\n",
    "\n",
    "    # Iterate through each sentence in the group of sentences\n",
    "    for sentence in sentences:\n",
    "        # Calculate the sentiment score for the sentence using both analyzers\n",
    "        sia_scores = sia.polarity_scores(sentence)\n",
    "        tb_scores = TextBlob(sentence).sentiment\n",
    "        compound_score = sia_scores['compound'] + tb_scores.polarity\n",
    "        sentiment_scores.append(compound_score)\n",
    "\n",
    "    # Calculate the average sentiment score for the group of sentences\n",
    "    avg_sentiment = sum(sentiment_scores) / len(sentiment_scores)\n",
    "    return avg_sentiment\n",
    "\n",
    "# Iterate through each keyword in the data\n",
    "for keyword in df['Keyword'].unique():\n",
    "    # Get the group of sentences for the keyword\n",
    "    sentences = df[df['Keyword'] == keyword]['Sentence'].tolist()\n",
    "\n",
    "    # Analyze the sentiment of the group of sentences for the keyword\n",
    "    avg_sentiment = analyze_keyword_sentiment(keyword, sentences)\n",
    "\n",
    "    # Print the results\n",
    "    print(f\"Keyword: {keyword}, Sentiment score: {avg_sentiment:.3f}\")\n",
    "\n",
    "# Calculate the sentiment scores for each keyword and add them to a new column 'Sentiment'\n",
    "df['Sentiment'] = df.apply(lambda row: analyze_keyword_sentiment(row['Keyword'], row['Sentence'].split('\\n')), axis=1)\n",
    "\n",
    "# Save the updated DataFrame to the same CSV file\n",
    "df.to_csv('keyword_sentence_similarity2.csv', index=False)"
   ]
  }
 ],
 "metadata": {
  "kernelspec": {
   "display_name": "Python 3",
   "language": "python",
   "name": "python3"
  },
  "language_info": {
   "codemirror_mode": {
    "name": "ipython",
    "version": 3
   },
   "file_extension": ".py",
   "mimetype": "text/x-python",
   "name": "python",
   "nbconvert_exporter": "python",
   "pygments_lexer": "ipython3",
   "version": "3.11.1"
  },
  "orig_nbformat": 4
 },
 "nbformat": 4,
 "nbformat_minor": 2
}
