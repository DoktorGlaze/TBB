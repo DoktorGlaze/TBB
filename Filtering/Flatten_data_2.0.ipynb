{
 "cells": [
  {
   "cell_type": "code",
   "execution_count": 1,
   "metadata": {},
   "outputs": [],
   "source": [
    "import json\n",
    "\n",
    "# Load the JSON data from file\n",
    "with open('2016_2023_PLS.json', 'r', encoding='utf-8') as f:\n",
    "    data = json.load(f)"
   ]
  },
  {
   "attachments": {},
   "cell_type": "markdown",
   "metadata": {},
   "source": [
    "### Rensar bort onödiga under-etiketter"
   ]
  },
  {
   "cell_type": "code",
   "execution_count": null,
   "metadata": {},
   "outputs": [],
   "source": [
    "# Delete key/value-pairs of (must_have & nice_to_have) concept_id and legacy_ams_taxonomy_id from all objects\n",
    "# Also deletes some key/value-pairs from application_contact (\"email\", \"telephone\", \"contact_type\")\n",
    "def remove_fields(obj):\n",
    "    if isinstance(obj, dict):\n",
    "        keys_to_delete = []\n",
    "        for key in obj.keys():\n",
    "            if key in [\"concept_id\", \"legacy_ams_taxonomy_id\", \"weight\", \"email\", \"telephone\", \"contact_type\"]:\n",
    "                keys_to_delete.append(key)\n",
    "            else:\n",
    "                remove_fields(obj[key])\n",
    "        for key in keys_to_delete:\n",
    "            del obj[key]\n",
    "    elif isinstance(obj, list):\n",
    "        for item in obj:\n",
    "            remove_fields(item)\n",
    "\n",
    "remove_fields(data)"
   ]
  },
  {
   "attachments": {},
   "cell_type": "markdown",
   "metadata": {},
   "source": [
    "### Plattar ut genom att \"hämta ut\" underetiketter"
   ]
  },
  {
   "cell_type": "code",
   "execution_count": null,
   "metadata": {},
   "outputs": [],
   "source": [
    "# Flatten the data where there are several layers (dictionary/array)\n",
    "for obj in data:\n",
    "    new_obj = {}\n",
    "    for key, value in obj.items():\n",
    "        if isinstance(value, list) and value == []:\n",
    "            new_obj[key] = None\n",
    "        elif key == \"workplace_address.coordinates\":\n",
    "            new_obj[key] = value\n",
    "            continue\n",
    "        elif isinstance(value, list):\n",
    "            new_values = []\n",
    "            for item in value:\n",
    "                if isinstance(item, dict) and 'label' in item:\n",
    "                    new_values.append(item['label'])\n",
    "                elif item is None:\n",
    "                    new_values.append(None)\n",
    "            new_obj[key] = new_values[0] if len(new_values) == 1 else new_values\n",
    "        elif isinstance(value, dict):\n",
    "            for sub_key, sub_value in value.items():\n",
    "                new_obj[f\"{key}_{sub_key}\"] = sub_value['label'] if sub_value is not None and 'label' in sub_value else None\n",
    "        else:\n",
    "            new_obj[key] = value\n",
    "\n",
    "    obj.clear()\n",
    "    obj.update(new_obj)"
   ]
  },
  {
   "attachments": {},
   "cell_type": "markdown",
   "metadata": {},
   "source": [
    "### Tar bort alla kolumner utom de som angivs i \"keys_to_keep\""
   ]
  },
  {
   "cell_type": "code",
   "execution_count": 5,
   "metadata": {},
   "outputs": [],
   "source": [
    "# Rensa ut alla kolumner utan de som finns angivna i \"keys_to_keep\"\n",
    "keys_to_keep = [\n",
    "    \"publication_date\",\n",
    "    \"description_text\",\n",
    "    \"occupation_label\",\n",
    "    \"occupation_group_label\",\n",
    "    \"Bad_words\"\n",
    "]\n",
    "\n",
    "for obj in data:\n",
    "    new_obj = {}\n",
    "    for key, value in obj.items():\n",
    "        if key in keys_to_keep:\n",
    "            new_obj[key] = value\n",
    "\n",
    "    obj.clear()\n",
    "    obj.update(new_obj)"
   ]
  },
  {
   "attachments": {},
   "cell_type": "markdown",
   "metadata": {},
   "source": [
    "### Skriv kvarvarande till ny json-fil"
   ]
  },
  {
   "cell_type": "code",
   "execution_count": 6,
   "metadata": {},
   "outputs": [],
   "source": [
    "# Save the filtered data to a new JSON file\n",
    "with open('Hela_datan.json', 'w', encoding='utf-8') as f:\n",
    "    json.dump(data, f, ensure_ascii=False, indent=4)"
   ]
  },
  {
   "attachments": {},
   "cell_type": "markdown",
   "metadata": {},
   "source": [
    "### OBS! Rensar description_text från ord som inte förekommer i ordlistan (bra och dåliga ord) (OBS: Körs enbart efter vi gjort sentiment analys, word2vec och fått ut cosine similarity)"
   ]
  },
  {
   "cell_type": "code",
   "execution_count": null,
   "metadata": {},
   "outputs": [],
   "source": [
    "import pandas as pd\n",
    "import re\n",
    "\n",
    "# Load the JSON file into a DataFrame\n",
    "df = pd.read_json('2016_2023_PLS.json', encoding='utf-8')\n",
    "\n",
    "# List of words to count occurrences for\n",
    "target_words = []\n",
    "\n",
    "with open(\"ordlista.txt\", \"r\", encoding='utf-8') as file:\n",
    "    lines = file.readlines()\n",
    "\n",
    "for line in lines:\n",
    "    words = line.split()\n",
    "    for word in words:\n",
    "        target_words.append(word)\n",
    "\n",
    "# Process job ads\n",
    "for index, row in df.iterrows():\n",
    "    ad_text = row['description_text']\n",
    "    \n",
    "    # Check if any target word is present in the description_text\n",
    "    found_target_words = []\n",
    "    for target_word in target_words:\n",
    "        if re.search(r'\\b{}\\b'.format(target_word), ad_text, flags=re.IGNORECASE):\n",
    "            found_target_words.append(target_word)\n",
    "    \n",
    "    # Replace the description_text with found target words or 'Bra_annons'\n",
    "    if found_target_words:\n",
    "        repeated_words = []\n",
    "        for target_word in found_target_words:\n",
    "            count = len(re.findall(r'\\b{}\\b'.format(target_word), ad_text, flags=re.IGNORECASE))\n",
    "            repeated_words.extend([target_word] * count)\n",
    "        ad_text = ' '.join(repeated_words)\n",
    "    else:\n",
    "        ad_text = 'Bra_annons'\n",
    "    \n",
    "    df.at[index, 'description_text'] = ad_text\n",
    "\n",
    "# Save the modified DataFrame to a new JSON file\n",
    "df.to_json('Full_dataset.json', orient='records', force_ascii=False, indent=4)\n"
   ]
  },
  {
   "attachments": {},
   "cell_type": "markdown",
   "metadata": {},
   "source": [
    "### Konvertera json till csv"
   ]
  },
  {
   "cell_type": "code",
   "execution_count": 2,
   "metadata": {},
   "outputs": [],
   "source": [
    "import pandas as pd\n",
    "import json\n",
    "\n",
    "# Load the JSON data from file\n",
    "with open('Full_dataset.json', 'r', encoding='utf-8') as f:\n",
    "    data = json.load(f)\n",
    "\n",
    "# Create a DataFrame from the JSON data\n",
    "df = pd.DataFrame(data)\n",
    "\n",
    "# Save the DataFrame to CSV with utf-8-sig encoding\n",
    "df.to_csv('Full_dataset.csv', index=False, encoding='utf-8-sig')\n"
   ]
  }
 ],
 "metadata": {
  "kernelspec": {
   "display_name": "Python 3",
   "language": "python",
   "name": "python3"
  },
  "language_info": {
   "codemirror_mode": {
    "name": "ipython",
    "version": 3
   },
   "file_extension": ".py",
   "mimetype": "text/x-python",
   "name": "python",
   "nbconvert_exporter": "python",
   "pygments_lexer": "ipython3",
   "version": "3.11.1"
  },
  "orig_nbformat": 4
 },
 "nbformat": 4,
 "nbformat_minor": 2
}
